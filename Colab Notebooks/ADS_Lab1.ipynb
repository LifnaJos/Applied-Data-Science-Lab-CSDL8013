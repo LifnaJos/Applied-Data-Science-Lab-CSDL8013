{
  "nbformat": 4,
  "nbformat_minor": 0,
  "metadata": {
    "colab": {
      "provenance": [],
      "authorship_tag": "ABX9TyPDOde1hZv2c4Oebv6coT+e",
      "include_colab_link": true
    },
    "kernelspec": {
      "name": "python3",
      "display_name": "Python 3"
    },
    "language_info": {
      "name": "python"
    }
  },
  "cells": [
    {
      "cell_type": "markdown",
      "metadata": {
        "id": "view-in-github",
        "colab_type": "text"
      },
      "source": [
        "<a href=\"https://colab.research.google.com/github/LifnaJos/CSDL8013-Applied-Data-Science-Lab/blob/main/Colab%20Notebooks/ADS_Lab1.ipynb\" target=\"_parent\"><img src=\"https://colab.research.google.com/assets/colab-badge.svg\" alt=\"Open In Colab\"/></a>"
      ]
    },
    {
      "cell_type": "markdown",
      "source": [
        "**AIM :** Explore the descriptive and inferential statistics on the given dataset."
      ],
      "metadata": {
        "id": "QUyLMLqHTvFa"
      }
    },
    {
      "cell_type": "markdown",
      "source": [
        "## **Step - 1 : Data Collection**"
      ],
      "metadata": {
        "id": "zVUYiG8ZZ_e3"
      }
    },
    {
      "cell_type": "markdown",
      "source": [
        "**a. Download the Datasets from Kaggle / UCI Repository**\n",
        "1. [Customer Segmentation Dataset from Kaggle](https://www.kaggle.com/code/fabiendaniel/customer-segmentation/input)\n",
        "2. [Credit Card Fraud Detection Dataset from Kaggle](https://www.kaggle.com/datasets/mlg-ulb/creditcardfraud)\n",
        "\n",
        "**b. Create Dataset for the following:**\n",
        "- - 360 degree Student Portfolio Dataset\n",
        "- - - ***For example***: Username, Name,\tDivision,\tRoll No, Age, Gender,\tDate of Birth,\tAddress, Contact No, 10th %,\t12th %,\tCGPA,\tDisability,\tFurther Preference: Job / Higher Studies,\tTechnical Skills : Java,\tPython,\tDSA,\tOS,\tDBMS,\tCommunication,skills,\tPresentation skills,\tCreativity :\tSinging,\tDance,\tNumber of internships,\tNumber of certification courses,\tName of the certification courses,\tMember of a technical society,\tMember of Non Technical society\n",
        "-- Student feedback\n"
      ],
      "metadata": {
        "id": "D2OYnQscUmF5"
      }
    },
    {
      "cell_type": "markdown",
      "source": [
        "## **Step - 2 : Perform Descriptive Analysis**"
      ],
      "metadata": {
        "id": "_crFhXQvaCm_"
      }
    },
    {
      "cell_type": "markdown",
      "source": [
        "**Descriptive Statistics**\n",
        "* focuses on describing and summarizing the main features of a data set.\n",
        "* used to organize, display, and interpret numerical and categorical data.\n",
        "* includes measures of central tendency, such as mean, median, and mode, which describe the typical value or center of a data set.\n",
        "* It also includes measures of variability, such as range, variance, and standard deviation, which describe how spread out the data is.\n",
        "* used to describe the distribution of a data set, such as whether it is symmetrical or skewed.\n",
        "* also be used to identify any outliers or unusual observations in the data.\n",
        "* used in various fields, such as business, medicine, social sciences, and more, to understand and analyze data.\n",
        "* describes the characteristics of a data set.\n",
        "* It is a simple technique to describe, show and summarize data in a meaningful way.\n",
        "* involves taking a potentially sizable number of data points in the sample data and reducing them to certain meaningful summary values and graphs.\n",
        "* The process allows you to obtain **insights and visualize the data.**"
      ],
      "metadata": {
        "id": "OYf6gtitaHFH"
      }
    },
    {
      "cell_type": "markdown",
      "source": [
        "**Descriptive Statistics Measures**\n",
        "1. Distribution :\n",
        "- shows us the frequency of different outcomes (or data points) in a population or sample.\n",
        "- We can show it as numbers in a list or table, or we can represent it graphically.\n",
        "2. Central tendency\n",
        "- Common measures of central tendency include:\n",
        "- - **mean**: average value of all the data points.\n",
        "- - **median**: central or middle value in the dataset.\n",
        "- - ** mode**: value that appears most often in the dataset.\n",
        "3. Variability\n",
        "- Common measures of variability include:\n",
        "- - **Standard deviation** shows us the amount of variation or dispersion.\n",
        "- - - Low standard deviation ==> most values are close to the mean.\n",
        "- - - High standard deviation ==> the values are more broadly spread out.\n",
        "- - **Minimum** and **maximum** values are the highest and lowest values in a dataset or quartile.\n",
        "- - **Range** measures the size of the distribution of values.\n",
        "- - - This can be easily determined by subtracting the smallest value from the largest.\n",
        "- - **Kurtosis**: measures whether or not the tails of a given distribution contain extreme values (also known as **outliers**).\n",
        "- - - If a tail lacks outliers ==> low kurtosis.\n",
        "- - - If a dataset has a lot of outliers ==> high kurtosis.\n",
        "4. Skewness: measure of a datasets symmetry.\n",
        "- If you were to plot a bell-curve and the right-hand tail was longer and fatter ==> positive skewness. \\\n",
        "- If the left-hand tail is longer and fatter ==> negative skewness.\n",
        "\n"
      ],
      "metadata": {
        "id": "AlvI6qefV32w"
      }
    },
    {
      "cell_type": "markdown",
      "source": [
        "## **Step - 3: Perform Inferential Analysis**"
      ],
      "metadata": {
        "id": "4si9NnesaJz3"
      }
    },
    {
      "cell_type": "markdown",
      "source": [
        "**Inferential statistics**\n",
        "- focus on making generalizations about a larger population based on a representative sample of that population.\n",
        "- focuses on making predictions (rather than stating facts) its results are usually in the form of a probability.\n",
        "- helps to draw conclusions and make predictions based on a data set. It is done using several techniques, methods, and types of calculations.\n",
        "- Some of the most important types of inferential statistics calculations are:\n",
        "1. Regression Analysis\n",
        "- show the relationship between a set of independent variables and a dependent variable.\n",
        "- predict the value of the dependent variable based on different values of the independent variables.\n",
        "2. Hypothesis tests\n",
        "- to determine whether the relationships observed in sample data actually exist in the data set."
      ],
      "metadata": {
        "id": "MKE2EjcWZ2IX"
      }
    },
    {
      "cell_type": "code",
      "execution_count": null,
      "metadata": {
        "id": "r4uh5gDbTrLU"
      },
      "outputs": [],
      "source": []
    }
  ]
}